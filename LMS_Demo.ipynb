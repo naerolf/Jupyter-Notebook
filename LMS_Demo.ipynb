# -*- coding: utf-8 -*-
"""
Created on Thu Oct  8 18:09:17 2015

@author: RudolphUser
"""

## Pasar el codigo de python a Matlab para verificar ##
from numpy import *
import numpy as np
from scipy import *
import scipy.io
from matplotlib import *
from pylab import *
import math as mt
import sys
import matplotlib.pyplot as plt
import matplotlib.mlab as mlab

def gaussian_kernel(x,y,l):
    "Esta funcion calcula el kernel gaussiano del centro x con respecto al dato y, de ancho l"    
    div_c = 1/(2*l**2)    
    K = exp(-pow(np.linalg.norm(x-y),2)*div_c)    
    return K

data = scipy.io.loadmat('data.mat')
y_data = data['y']

print("DEMO filtros LMS y KLMS")

demo_type = input("Elija el algoritmo a utilizar: ingrese 1 para LMS y 2 para KLMS\n")
demo_type = int(demo_type)
#if demo_type == 1:
w_max = input("Ingrese el orden del filtro\n")
w_max = int(w_max)
if demo_type == 2:
    sigma = input("Ingrese ancho del kernel\n")
    sigma = float(sigma)
    c_max = input("Ingrese la cantidad máxima de centros\n")
    c_max = int(c_max)
nu = input("Ingrese la tasa de aprendizaje\n")
nu = float(nu)
signal_type = input("Escoja la señal con la que se realizará la prueba: 1 para logaritmo, 2 para tanh, 3 para sin, 4 para modelo lineal y 5 para autorregresivo no lineal\n")
signal_type = int(signal_type) - 1
sim_length = input("Escoja el largo de la simulación\n")
sim_length = int(sim_length)


## Cantidad maxima de pesos (orden del filtro)
#w_max = 10
## Ancho kernel
#sigma = 1e2
## Tasa de aprendizaje
#nu = 1.15e-1
## Peso inicial 
#w0 = 0
## Cantidad maxima de centros
#c_max = 1001


# Signals
# Datos
#t = arange(0,len(data['y']),1)
# Sintetica
sample_res = 10
t = arange(0,sim_length/sample_res,1/sample_res)
scale = 1

random_array = np.random.randint(-10,10, size=10)
frec = 2*pi/40
y1 = log(t+1)
y2 = tanh(t)
y3 = sin(scale*frec*t) + 0
y4 = [0] * len(t)
y5 = [0] * len(t)
y6 = [0] * len(t)
y_original = [0] * len(t)
for i in range(1,len(t)-10):
    y4[i] = np.dot(random_array,np.transpose(t[i:i+10]))
#    print(y4[i])

y4 = np.asarray(y4)

k1 = 0.99
y5[0] = 5/7
y_original[0] = 5/7

std_1 = 0.2

for i in range(1,len(t)):
    #y5[i] = k1*y5[i-1]*(1-y5[i-1]) + np.random.normal(0,std_1**2,1)
    y5[i] = k1*y5[i-1] + np.random.normal(0,std_1**2,1)
for i in range(1,len(t)):
    y_original[i] = k1*y_original[i-1]

y_vec = [y1,y2,y3,y4,y5]

y = y_vec[signal_type]

std_2 = 0.3

r1 = np.random.normal(0,std_2**2,len(t))
r2 = np.random.normal(0,std_2**2,len(t))
r3 = t+r1
r4 = t+r2
r5 = t+r1
# Datos
#y_noise = y_data + r
# Sintetica
y_noise = y + r1
#print(len(t))

# Filtro de orden 1
#w = [0] * len(t)
#e = [0] * len(t)
#estimator = [0] * len(t)


#for i in range (1,len(t)):
#    e[i] = y_noise[i] - w[i-1]*t[i]
#    w[i] = w[i-1] + nu*e[i]*t[i]
#    
#
#for i in range (1,len(t)-3):
#    estimator[i] = w[i]*t[i]
if demo_type == 1:
# Condiciones iniciales

    w = [0] * w_max
    s = (len(t),w_max)
    w_vec = np.zeros(s)
    w_vec[0,:] = w
    e = [0] * len(t)
    estimator = [0] * len(t)
    MSE_LMS = [0] * len(t)
    #print(t[1:3:1])
    
    # Algoritmo LMS
    for i in range (1,len(t)-w_max):
        x = y_noise[i-w_max:i:1]
        if len(x) < w_max:
            aux = [0] * (w_max - len(x))
            x = np.concatenate([x,aux])
        # Datos 
        #e[i] = y_data[i] - np.dot(w,x)
        # Sintetica    
        e[i] = y_noise[i+1] - np.dot(w,x)
        # Interesa guardar los pesos en el código, también verificar el paso de predicción
        w = w + nu*e[i]*x
        w_vec[i,:] = w
        estimator[i] = np.dot(w,x)
        MSE_LMS[i] = e[i]**2
        print("Iteracion")    
        print(i)
    ymin = min(y)
    ymax = max(y_noise)
    filtered_signal = estimator
    f = filtered_signal
    # Plots LMS
    figure(1)
    ax1 = subplot(221)
    ax1.set_title('Señal Original')
    ax1.set_ylim([ymin,1.15*ymax])
    ax1.plot(t[1:len(t)-w_max:1], y[1:len(t)-w_max:1],'#00CC00')
    
    ax2 = subplot(222)
    ax2.set_title('Señal + Ruido')
    ax2.set_ylim([ymin,1.15*ymax])
    ax2.plot(t[1:len(t)-w_max:1], y_noise[1:len(t)-w_max:1],'#00CC00')
    
    ax3 = subplot(223)
    ax3.set_title('Señal filtrada')
    ax3.set_ylim([ymin,1.15*ymax])
    ax3.plot(t[1:len(t)-w_max:1], filtered_signal[1:len(t)-w_max:1], '#993300')
    
    ax4 = subplot(224)
    ax4.set_title('MSE')
#    ax4.set_ylim([0,1.15*ymax])
    ax4.plot(t[1:len(t)-w_max:1], MSE_LMS[1:len(t)-w_max:1], '#993300')

    MSE_TOTAL_LMS = sum(MSE_LMS)
    print("Error MSE acumulado")
    print(MSE_TOTAL_LMS)
   
    figure(3)
    
    graph1 = plot(y[0:len(t)-1:1], y[1:len(t):1], '*')
    axes = plt.gca()    
    axes.set_xlim([0,1])    
    axes.set_ylim([0,1])
    title('Plano de fase muestras')
    
    figure(4)
    graph2 = plot(filtered_signal[0:len(t)-1:1], filtered_signal[1:len(t):1], '*')
    axes = plt.gca()    
    axes.set_xlim([0,1])    
    axes.set_ylim([0,1])   
    title('Plano de fase filtro')
    
    figure(5)
    for i in range (0,size(w_vec,1)):
        plot(t,w_vec[:,i])
    title('Evolución de pesos')
    figure(11)
    y = np.asarray(y)
    f = np.asarray(f)
    error_adjust = y-f
    plot(t,error_adjust)
    
    figure(12)
    plot(t[1:len(t):1], y[1:len(t):1],'blue', label ="Señal original")
    plot(t[1:len(t):1], y_noise[1:len(t):1],'go', label ="Muestras")
    plot(t[1:len(t):1], filtered_signal[1:len(t):1],'red', label ="Filtro")
    legend()
    
elif demo_type == 2:
    # Algoritmo KLMS
    
    e = [0] * len(t)
    s = (c_max,w_max)    
    C = np.zeros(s)
    f = [0] * len(t)
    MSE_KLMS = [0] * len(t)
    s = (len(t),c_max)
    a_vec = np.zeros(s)
    a = zeros(c_max)    
    a[0] = nu*y_noise[0]
    f[0] = a[0]*gaussian_kernel(y_noise[0],0,sigma)
    Center_num = 0
    Center_data = zeros(c_max)    
    if w_max == 1 and c_max == 5:
        C[0,:] = 0
        C[1,:] = 0.25
        C[2,:] = 0.5
        C[3,:] = 0.75
        C[4,:] = 1
        Center_num = c_max
    elif w_max == 1 and c_max == 1:
        C[0,:] = 0.5
        Center_num = c_max
    elif w_max == 1 and c_max == 40:
        c = np.linspace(-1,1,40)
        for i in range(0,c_max):
            C[i,:] = c[i]        
        Center_num = c_max
    delta_1 = 0.5
    delta_2 = 0.5
    eps = 1e-8


    for i in range(0,len(t)-1):
        ### Entrada orden filtro ###
        x = y_noise[i-w_max:i:1]
        if len(x) < w_max:
            aux = [0] * (w_max - len(x))
            x = np.concatenate([x,aux])
        ### Sparsification Criterion ###
        if Center_num < c_max and Center_num != 0:
            
            dis = [0] * Center_num
            
            for j in range(0,Center_num):
                d = np.linalg.norm(x - C[j,:])
                dis[j] = d
            dist1 = min(dis)
            #input("Press any key to continue...")
            ### Condición de distancia al diccionario ###
            if dist1 > delta_1:
                C_candidate = C
                C_candidate[Center_num] = x
                k_reg = zeros(Center_num+1)
                aux_sum = 0
                for j in range(0,Center_num+1):
                    k_reg[j] = gaussian_kernel(x,C_candidate[j,:],sigma)
                    aux = a[j]*k_reg[j]
                    aux_sum = aux_sum + aux
                f[i+1] = aux_sum
                e[i] = y_noise[i+1] - f[i+1]
                ### Condición de error de predicción ###
                if np.abs(e[i]) >= delta_2:
                    C = C_candidate
                    Center_data[Center_num] = i
                    Center_num = Center_num + 1
                    1
                    a[0:Center_num] = a[0:Center_num] + (nu*e[i]*k_reg[0:Center_num])/(eps + (np.linalg.norm(k_reg[0:Center_num]))**2)
                    #input("Press enter to continue...")
        ### Caso sin centros ###
        elif Center_num == 0:
            C[0,:] = x
            k_reg = gaussian_kernel(x,C[0,:],sigma)
            aux = a[0]*k_reg
            f[i+1] = aux
            e[i] = y_noise[i+1] - f[i+1]
            a[0] = a[0] + nu*e[i]*k_reg
            Center_data[Center_num] = i
            Center_num = Center_num + 1
   
        ### Caso cuando no agrego centros
        else:
            aux_sum = 0
            k_reg = zeros(c_max)
            for j in range(0,Center_num):
                k_reg[j] = gaussian_kernel(x,C[j,:],sigma)
                aux = a[j]*k_reg[j]
                aux_sum = aux_sum + aux
            f[i+1] = aux_sum
            e[i] = y_noise[i+1] - f[i+1]
            a[0:Center_num] = a[0:Center_num] + (nu*e[i]*k_reg[0:Center_num])/(eps + (np.linalg.norm(k_reg[0:Center_num]))**2)
        a_vec[i,:] = a
        MSE_KLMS[i] = e[i]**2
        print("Iteracion")    
        print(i)
        
    ymin = min(y_noise)
    ymax = max(y_noise)
    # Plots KLMS
    filtered_signal = f

    figure(2)
    ax1 = subplot(221)
    ax1.set_title('Señal Original')
    ax1.set_ylim([ymin,1.15*ymax])
    ax1.plot(t[1:len(t):1], y[1:len(t):1],'#00CC00')
    
    ax2 = subplot(222)
    ax2.set_title('Señal + Ruido')
    ax2.set_ylim([ymin,1.15*ymax])
    ax2.plot(t[1:len(t):1], y_noise[1:len(t):1],'#00CC00')
    
    ax3 = subplot(223)
    ax3.set_title('Señal filtrada')
    ax3.set_ylim([ymin,1.15*ymax])
    ax3.plot(t[1:len(t):1], filtered_signal[1:len(t):1], '#993300')
    
    ax4 = subplot(224)
    ax4.set_title('MSE')
#    ax4.set_ylim([0,1.15*ymax])
    ax4.plot(t[1:len(t):1], MSE_KLMS[1:len(t):1], '#993300')


    MSE_TOTAL_KLMS = sum(MSE_KLMS)
    print("Error MSE acumulado")
    print(MSE_TOTAL_KLMS)
    
    figure(3)
    
    graph1 = plot(y[0:len(t)-1:1], y[1:len(t):1], '*')
    axes = plt.gca()    
    axes.set_xlim([-1,1])    
    axes.set_ylim([-1,1])
    title('Plano de fase muestras')
    
    figure(4)
    graph2 = plot(filtered_signal[0:len(t)-1:1], filtered_signal[1:len(t):1], '*')
    axes = plt.gca()    
    axes.set_xlim([-1,1])    
    axes.set_ylim([-1,1])   
    title('Plano de fase filtro')
    
    figure(5)
    for i in range (0,size(a_vec,1)):
        plot(t,a_vec[:,i])
    title('Evolución de pesos')

    figure(11)
    y = np.asarray(y)
    f = np.asarray(f)
    error_adjust = y-f
    plot(t,error_adjust)
    title('Función de error')
    
    ERR_TOTAL = sum(error_adjust**2)
    delay_err = [0] * len(t)    
    for i in range(0,len(t)-1):
        delay_err[i] = (y[i+1] - y[i])**2
    DELAY_ERR_TOTAL = sum(delay_err)
    print("Error ajuste acumulado")
    print(ERR_TOTAL)
    print("Error retardo acumulado")
    print(DELAY_ERR_TOTAL)
    
    figure(12)
    plot(t[1:len(t):1], y[1:len(t):1],'blue', label ="Señal original")
    plot(t[1:len(t):1], y_noise[1:len(t):1],'go', label ="Muestras")
    plot(t[1:len(t):1], filtered_signal[1:len(t):1],'red', label ="Filtro")
    legend()
    
    figure(13)
    plot(t[1:len(t):1], y_original[1:len(t):1],'blue', label ="Señal original sin ruido")
    plot(t[1:len(t):1], y[1:len(t):1],'red', label ="Señal original con ruido")
    legend()
    
    T = 1
    resT = 1000
    z = np.linspace(-T,T,num=resT)
    y_function = zeros(resT)
    y_filter = zeros(resT)
    for i in range(0,len(z)):
        y_function[i] = k1*z[i]
        x = z[i-w_max:i:1]
        if len(x) < w_max:
            aux = [0] * (w_max - len(x))
            x = np.concatenate([x,aux])        
        aux_sum = 0        
        k_reg = zeros(c_max)
        for j in range(0,Center_num):       
            k_reg[j] = gaussian_kernel(x,C[j,:],sigma)
            aux = a[j]*k_reg[j]
            aux_sum = aux_sum + aux
        y_filter[i] = aux_sum
        #print(y_filter[i])
        #input("Press enter to continue...")
    
    figure(14)
    plot(z,y_function,'bo', label ="Función")
    plot(z,y_filter,'r*', label ="Aproximación Filtro")
    for i in range (0,Center_num):
        gauss_range = np.linspace(-3*sigma + C[i,:],3*sigma + C[i,:],resT)
        plot(gauss_range,a[i]*mlab.normpdf(gauss_range,C[i,:],sigma)*((2*pi)**0.5)*sigma)    
    axis([z[0],z[len(z)-1],-1,1])
    legend()
    

        
#print("Kernel")
#K = gaussian_kernel(1,0,0.1)
#print(K)
#figure(10)
#plot(C[:,0],C[:,1],'*')

show()
