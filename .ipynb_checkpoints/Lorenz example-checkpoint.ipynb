{
 "cells": [
  {
   "cell_type": "markdown",
   "metadata": {},
   "source": [
    "# KLMS Lorenz"
   ]
  },
  {
   "cell_type": "markdown",
   "metadata": {},
   "source": [
    "Primera parte: imports"
   ]
  },
  {
   "cell_type": "code",
   "execution_count": 1,
   "metadata": {
    "collapsed": false
   },
   "outputs": [
    {
     "ename": "ImportError",
     "evalue": "No module named 'KLMSv6'",
     "output_type": "error",
     "traceback": [
      "\u001b[0;31m---------------------------------------------------------------------------\u001b[0m",
      "\u001b[0;31mImportError\u001b[0m                               Traceback (most recent call last)",
      "\u001b[0;32m<ipython-input-1-5eba931e32ff>\u001b[0m in \u001b[0;36m<module>\u001b[0;34m()\u001b[0m\n\u001b[1;32m     10\u001b[0m \u001b[0;32mimport\u001b[0m \u001b[0mmatplotlib\u001b[0m\u001b[0;34m.\u001b[0m\u001b[0mpyplot\u001b[0m \u001b[0;32mas\u001b[0m \u001b[0mplt\u001b[0m\u001b[0;34m\u001b[0m\u001b[0m\n\u001b[1;32m     11\u001b[0m \u001b[0;32mimport\u001b[0m \u001b[0mmatplotlib\u001b[0m\u001b[0;34m.\u001b[0m\u001b[0mmlab\u001b[0m \u001b[0;32mas\u001b[0m \u001b[0mmlab\u001b[0m\u001b[0;34m\u001b[0m\u001b[0m\n\u001b[0;32m---> 12\u001b[0;31m \u001b[0;32mfrom\u001b[0m \u001b[0mKLMSv6\u001b[0m \u001b[0;32mimport\u001b[0m \u001b[0mKLMS_filter\u001b[0m\u001b[0;34m\u001b[0m\u001b[0m\n\u001b[0m\u001b[1;32m     13\u001b[0m \u001b[0;32mfrom\u001b[0m \u001b[0mmpl_toolkits\u001b[0m\u001b[0;34m.\u001b[0m\u001b[0mmplot3d\u001b[0m \u001b[0;32mimport\u001b[0m \u001b[0mAxes3D\u001b[0m\u001b[0;34m\u001b[0m\u001b[0m\n\u001b[1;32m     14\u001b[0m \u001b[0;34m\u001b[0m\u001b[0m\n",
      "\u001b[0;31mImportError\u001b[0m: No module named 'KLMSv6'"
     ]
    }
   ],
   "source": [
    "%matplotlib notebook\n",
    "from numpy import *\n",
    "import numpy as np\n",
    "from scipy import *\n",
    "import scipy.io as scio\n",
    "from matplotlib import *\n",
    "from pylab import *\n",
    "import math as mt\n",
    "import sys\n",
    "import matplotlib.pyplot as plt\n",
    "import matplotlib.mlab as mlab\n",
    "from KLMSv6 import KLMS_filter\n",
    "from mpl_toolkits.mplot3d import Axes3D\n",
    "\n",
    "rcParams['figure.figsize'] = 12, 8"
   ]
  },
  {
   "cell_type": "markdown",
   "metadata": {},
   "source": [
    "Función para generar señal autorregresiva"
   ]
  },
  {
   "cell_type": "code",
   "execution_count": null,
   "metadata": {
    "collapsed": true
   },
   "outputs": [],
   "source": [
    "def delaySignal(signal,delay):\n",
    "    \n",
    "    numRows = len(signal)\n",
    "    numCols = len(signal[0])\n",
    "    s = (numRows,delay,numCols-delay)    \n",
    "    regresor = zeros(s)\n",
    "    delayedSignal = signal[:,delay:numCols:1]\n",
    "    for i in range(delay,numCols-1):\n",
    "        regresor[:,:,i+1-delay] = signal[:,i-delay:i:1]\n",
    "    return [delayedSignal,regresor]"
   ]
  },
  {
   "cell_type": "markdown",
   "metadata": {},
   "source": [
    "Parámetros del ejemplo"
   ]
  },
  {
   "cell_type": "code",
   "execution_count": null,
   "metadata": {
    "collapsed": true
   },
   "outputs": [],
   "source": [
    "## Parámetros de la simulación ##\n",
    "simLength = 4000\n",
    "sampleRes = 1\n",
    "t = arange(0,simLength/sampleRes,1/sampleRes)\n",
    "## Porcentaje de datos a mostrar el error ##\n",
    "desiredPercent = 0.7\n",
    "percentError = 1-desiredPercent\n",
    "### Parámetros de KLMS ####\n",
    "kernelWidth = 15\n",
    "delay = 5\n",
    "learningRate = 6e-2\n",
    "sparsification = 0"
   ]
  },
  {
   "cell_type": "markdown",
   "metadata": {},
   "source": [
    "Generación de la señal caótica de Lorenz discreta"
   ]
  },
  {
   "cell_type": "code",
   "execution_count": null,
   "metadata": {
    "collapsed": true
   },
   "outputs": [],
   "source": [
    "######### Ejemplo sistema de Lorenz ########################################\n",
    "\n",
    "x = zeros(len(t))\n",
    "y = zeros(len(t))\n",
    "z = zeros(len(t))\n",
    "\n",
    "x[0] = 1 \n",
    "y[0] = 1\n",
    "z[0] = 1\n",
    "\n",
    "sigmaL = 10\n",
    "rhoL = 28\n",
    "betaL = 8/3\n",
    "sL = 0.01\n",
    "\n",
    "for i in range(1,len(t)):\n",
    "    x[i] = x[i-1] + sL * (sigmaL*(y[i-1] - x[i-1])) \n",
    "    y[i] = y[i-1] + sL * (x[i-1]*(rhoL - z[i-1]) - y[i-1])\n",
    "    z[i] = z[i-1] + sL * (x[i-1]*y[i-1] - betaL*z[i-1])\n",
    "\n",
    "#x = x/max(x)\n",
    "#y = y/max(y)\n",
    "#z = z/max(z)    \n",
    "\n",
    "signal = [x,y,z]\n",
    "#signal = [sin(t),cos(t),tan(t)]\n",
    "signal = np.array(signal)\n",
    "devChannel = 0.01\n",
    "std_1 = devChannel\n",
    "std_2 = devChannel\n",
    "std_3 = devChannel\n",
    "\n",
    "r1 = np.random.normal(0,std_1**2,len(t))\n",
    "r2 = np.random.normal(0,std_2**2,len(t))\n",
    "r3 = np.random.normal(0,std_3**2,len(t))\n",
    "\n",
    "x_noise = x #+ r1\n",
    "y_noise = y #+ r2\n",
    "z_noise = z #+ r3\n",
    "###########################################################################\n",
    "\n",
    "## Construcción de señal autorregresiva ##\n",
    "signal = [x,y,z]\n",
    "signal = np.array(signal)\n",
    "\n",
    "devChannel = 0.01\n",
    "std_1 = devChannel\n",
    "std_2 = devChannel\n",
    "std_3 = devChannel\n",
    "\n",
    "r1 = np.random.normal(0,std_1**2,len(t))\n",
    "r2 = np.random.normal(0,std_2**2,len(t))\n",
    "r3 = np.random.normal(0,std_3**2,len(t))\n",
    "\n",
    "x_noise = x #+ r1\n",
    "y_noise = y #+ r2\n",
    "z_noise = z #+ r3\n",
    "\n",
    "noiseSignal = [x_noise,y_noise,z_noise]\n",
    "\n",
    "#noiseSignal = [sin(t) + r1,cos(t) + r2, tan(t) +r3]\n",
    "noiseSignal = np.array(noiseSignal)\n",
    "\n",
    "[signal,regSignalDummy] = delaySignal(signal,delay)\n",
    "[noiseSignal,regSignal] = delaySignal(noiseSignal,delay)\n",
    "\n",
    "noiseSignal = np.array(noiseSignal)\n",
    "regSignal = np.array(regSignal)"
   ]
  },
  {
   "cell_type": "markdown",
   "metadata": {},
   "source": [
    "Filtro KLMS"
   ]
  },
  {
   "cell_type": "code",
   "execution_count": null,
   "metadata": {
    "collapsed": false
   },
   "outputs": [],
   "source": [
    "[filteredSignal,weights,centerList,MSE_KLMS,errorSignal,centerNum,presence,dictionaryComplexity,sigmaStory] = KLMS_filter(noiseSignal,regSignal,kernelWidth,delay,learningRate,sparsification)"
   ]
  },
  {
   "cell_type": "markdown",
   "metadata": {},
   "source": [
    "Generación de plots de resultados"
   ]
  },
  {
   "cell_type": "code",
   "execution_count": null,
   "metadata": {
    "collapsed": false
   },
   "outputs": [],
   "source": [
    "outputSignal = noiseSignal\n",
    "inputSignal = regSignal\n",
    "channelNum = len(signal)\n",
    "accMSE = [0] * channelNum\n",
    "accKLMS = [0] * channelNum\n",
    "TN = len(noiseSignal[0])\n",
    "accNaiveMSE = [0] * (TN-1)\n",
    "s = (channelNum,TN-1)\n",
    "naiveMSE = zeros(s)\n",
    "s = (channelNum,TN)\n",
    "KLMSMSE = zeros(s)\n",
    "\n"
   ]
  },
  {
   "cell_type": "markdown",
   "metadata": {},
   "source": [
    "HOLO"
   ]
  },
  {
   "cell_type": "code",
   "execution_count": null,
   "metadata": {
    "collapsed": false
   },
   "outputs": [],
   "source": [
    "for i in range(channelNum):\n",
    "    accMSE[i] = sum(MSE_KLMS[i,percentError*TN:TN])\n",
    "    naiveMSE[i,:] = (signal[i][1:TN] - noiseSignal[i][0:(TN-1)])**2\n",
    "    KLMSMSE[i,:] = (signal[i][0:TN] - filteredSignal[i][0:TN])**2\n",
    "    accKLMS[i] = sum(KLMSMSE[i,percentError*TN:TN])    \n",
    "    accNaiveMSE[i] = sum(naiveMSE[i,percentError*TN:TN])    \n",
    "    print(\"Error normalizado en el canal %s\" %i)    \n",
    "    #print(accMSE[i])\n",
    "    #print(\"Otro error en el canal %s\" %i)\n",
    "    print(accKLMS[i]/simLength)\n",
    "    print(\"Error normalizado naive en el canal %s\" %i)\n",
    "    print(accNaiveMSE[i]/simLength)\n",
    "\n",
    "#logKLMS = np.log(KLMSMSE + 1)\n",
    "#logNaive = np.log(naiveMSE + 1) "
   ]
  },
  {
   "cell_type": "markdown",
   "metadata": {},
   "source": [
    "HOLO 2"
   ]
  },
  {
   "cell_type": "code",
   "execution_count": null,
   "metadata": {
    "collapsed": false
   },
   "outputs": [],
   "source": [
    "GraphLim = 1500\n",
    "for i in range(len(signal)):\n",
    "    figure(i)\n",
    "    #signalMax = max(signal[i])\n",
    "    #signalMin = min(signal[i])\n",
    "    plot(t[0:len(t)-delay],signal[i][0:len(t)-delay],'blue', label =\"Señal original\")    \n",
    "    plot(t[0:len(t)-delay],noiseSignal[i][0:len(t)-delay],'go', label =\"Muestras\")\n",
    "    plot(t[0:len(t)-delay],filteredSignal[i][0:len(t)-delay],'red', label =\"Filtro\")\n",
    "    #plot(t[0:GraphLim],signal[i][0:GraphLim],'blue', label =\"Señal original\")    \n",
    "    #plot(t[0:GraphLim],noiseSignal[i][0:GraphLim],'go', label =\"Muestras\")\n",
    "    #plot(t[0:GraphLim],filteredSignal[i][0:GraphLim],'red', label =\"Filtro\")\n",
    "    #axis([0, TN/sampleRes, 1.2*signalMin, 1.2*signalMax])\n",
    "    ylabel('Valor señal')\n",
    "    xlabel('Muestras')\n",
    "    legend()\n",
    "    #grid() "
   ]
  },
  {
   "cell_type": "markdown",
   "metadata": {},
   "source": [
    "HOLO 3"
   ]
  },
  {
   "cell_type": "code",
   "execution_count": null,
   "metadata": {
    "collapsed": false
   },
   "outputs": [],
   "source": [
    "for i in range(len(signal)):\n",
    "    figure(i+len(signal))\n",
    "    semilogy(t[TN*percentError:len(t)-delay],KLMSMSE[i][TN*percentError:len(t)-delay],'blue', label =\"MSE KLMS\")\n",
    "    #plot(t[TN*percentError:len(t)-delay],logKLMS[i][TN*percentError:len(t)-delay],'blue', label =\"MSE KLMS\")\n",
    "    semilogy(t[TN*percentError+delay:len(naiveMSE[i])-delay],naiveMSE[i][TN*percentError+delay:len(naiveMSE[i])-delay],'red', label =\"MSE naive\")\n",
    "    #plot(t[TN*percentError+delay:len(logNaive[i])-delay],naiveMSE[i][TN*percentError+delay:len(naiveMSE[i])-delay],'red', label =\"MSE naive\")    \n",
    "    ylabel('Error cuadrático')   \n",
    "    xlabel('Muestras')    \n",
    "    legend()\n",
    "    grid() "
   ]
  },
  {
   "cell_type": "markdown",
   "metadata": {},
   "source": [
    "HOLO 4"
   ]
  },
  {
   "cell_type": "code",
   "execution_count": null,
   "metadata": {
    "collapsed": false
   },
   "outputs": [],
   "source": [
    "for i in range(channelNum):\n",
    "\n",
    "    figure(i+2*len(signal))\n",
    "    #limSup = len(weights[i,0,:])\n",
    "    #centerlen(weights[i,:,0])\n",
    "    intervalMax = 4000\n",
    "    if TN < intervalMax:\n",
    "        for j in range(centerNum):\n",
    "                plot(t[0:TN],weights[i,j,:])\n",
    "    else:\n",
    "        for j in range(centerNum):\n",
    "#            print(len(t[limSup-4000:limSup]))\n",
    "#            print(len(weights[i,j,limSup-4000:limSup]))\n",
    "            plot(t[TN-intervalMax:TN],weights[i,j,TN-intervalMax:TN])\n",
    "    #weigthsLimMax = max(weights[i,:,:])\n",
    "    #weigthsLimMin = min(weights[i,:,:])\n",
    "    title(\"Pesos en el canal %s\" %i)\n",
    "    ylabel('Magnitud')   \n",
    "    xlabel('Muestras')    \n",
    "    #axis([0, TN/sampleRes, weigthsLimMin, weigthsLimMax])\n",
    "    #legend()\n",
    "    #grid() "
   ]
  },
  {
   "cell_type": "markdown",
   "metadata": {},
   "source": [
    "HOLO 5"
   ]
  },
  {
   "cell_type": "code",
   "execution_count": null,
   "metadata": {
    "collapsed": false
   },
   "outputs": [],
   "source": [
    "figure(9)\n",
    "plot(t[0:simLength-delay],dictionaryComplexity)\n",
    "title(\"Complejidad del Diccionario en función del tiempo\")\n",
    "ylabel('Cantidad de centros')   \n",
    "xlabel('Muestras')    \n",
    "grid()"
   ]
  },
  {
   "cell_type": "markdown",
   "metadata": {},
   "source": [
    "HOLO 6"
   ]
  },
  {
   "cell_type": "code",
   "execution_count": null,
   "metadata": {
    "collapsed": false
   },
   "outputs": [],
   "source": [
    "figure(10)\n",
    "plot(t[0:len(dictionaryComplexity)],sigmaStory)\n",
    "#plot(t[0:GraphLim],sigmaStory[0:GraphLim])\n",
    "title(\"Evolución de sigma\")\n",
    "ylabel('Magnitud')   \n",
    "xlabel('Muestras')   \n",
    "grid() "
   ]
  },
  {
   "cell_type": "markdown",
   "metadata": {},
   "source": [
    "HOLO 7"
   ]
  },
  {
   "cell_type": "code",
   "execution_count": null,
   "metadata": {
    "collapsed": false
   },
   "outputs": [],
   "source": [
    "# Two subplots, the axes array is 1-d\n",
    "f, axarr = plt.subplots(4, sharex=True)\n",
    "axarr[0].plot(t[0:GraphLim],signal[0][0:GraphLim],'blue', label =\"Señal original\")    \n",
    "axarr[0].plot(t[0:GraphLim],noiseSignal[0][0:GraphLim],'go', label =\"Muestras\")\n",
    "axarr[0].plot(t[0:GraphLim],filteredSignal[0][0:GraphLim],'red', label =\"Filtro\")\n",
    "axarr[0].set_title('Time-Varying Kernel Width')\n",
    "axarr[0].set_ylabel('X-axis')\n",
    "#axarr[0].set_xlabel('Muestras')\n",
    "axarr[1].plot(t[0:GraphLim],signal[1][0:GraphLim],'blue', label =\"Señal original\")    \n",
    "axarr[1].plot(t[0:GraphLim],noiseSignal[1][0:GraphLim],'go', label =\"Muestras\")\n",
    "axarr[1].plot(t[0:GraphLim],filteredSignal[1][0:GraphLim],'red', label =\"Filtro\")\n",
    "axarr[1].set_ylabel('Y-axis')\n",
    "#axarr[1].set_xlabel('Muestras')\n",
    "axarr[2].plot(t[0:GraphLim],signal[2][0:GraphLim],'blue', label =\"Señal original\")    \n",
    "axarr[2].plot(t[0:GraphLim],noiseSignal[2][0:GraphLim],'go', label =\"Muestras\")\n",
    "axarr[2].set_ylabel('Z-axis')\n",
    "#axarr[2].set_xlabel('Muestras')\n",
    "axarr[2].plot(t[0:GraphLim],filteredSignal[2][0:GraphLim],'red', label =\"Filtro\")\n",
    "axarr[3].plot(t[0:GraphLim],sigmaStory[0:GraphLim])\n",
    "axarr[3].set_ylabel('Kernel Width')   \n",
    "axarr[3].set_xlabel('Samples')   "
   ]
  },
  {
   "cell_type": "markdown",
   "metadata": {},
   "source": [
    "HOLO 8"
   ]
  },
  {
   "cell_type": "code",
   "execution_count": null,
   "metadata": {
    "collapsed": false
   },
   "outputs": [],
   "source": [
    "####\n",
    "f, axarr = plt.subplots(2, sharex=True)\n",
    "axarr[0].plot(t[0:GraphLim],signal[0][0:GraphLim],'blue', label =\"Señal original\")    \n",
    "axarr[0].plot(t[0:GraphLim],noiseSignal[0][0:GraphLim],'go', label =\"Muestras\")\n",
    "axarr[0].plot(t[0:GraphLim],filteredSignal[0][0:GraphLim],'red', label =\"Filtro\")\n",
    "axarr[0].set_title('Time-Varying Kernel Width')\n",
    "axarr[0].set_ylabel('X-axis')\n",
    "axarr[1].plot(t[0:GraphLim],sigmaStory[0:GraphLim])\n",
    "axarr[1].set_ylabel('Kernel Width')   \n",
    "axarr[1].set_xlabel('Samples')   "
   ]
  },
  {
   "cell_type": "code",
   "execution_count": null,
   "metadata": {
    "collapsed": false
   },
   "outputs": [],
   "source": [
    "fig = plt.figure()\n",
    "ax = fig.add_subplot(1,2,1, projection='3d')\n",
    "ax.scatter(signal[0],signal[1],signal[2])\n",
    "ax.set_title('Lorenz Series')\n",
    "ax = fig.add_subplot(1,2,2, projection='3d')\n",
    "ax.scatter(filteredSignal[0],filteredSignal[1],filteredSignal[2])\n",
    "ax.set_title('KLMS estimation')\n",
    "show()"
   ]
  }
 ],
 "metadata": {
  "kernelspec": {
   "display_name": "Python 3",
   "language": "python",
   "name": "python3"
  },
  "language_info": {
   "codemirror_mode": {
    "name": "ipython",
    "version": 3
   },
   "file_extension": ".py",
   "mimetype": "text/x-python",
   "name": "python",
   "nbconvert_exporter": "python",
   "pygments_lexer": "ipython3",
   "version": "3.5.1"
  }
 },
 "nbformat": 4,
 "nbformat_minor": 0
}
